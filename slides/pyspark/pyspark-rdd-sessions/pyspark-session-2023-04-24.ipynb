{
 "cells": [
  {
   "cell_type": "code",
   "execution_count": 1,
   "id": "b9a30fee",
   "metadata": {},
   "outputs": [
    {
     "data": {
      "text/plain": [
       "'3.3.2'"
      ]
     },
     "execution_count": 1,
     "metadata": {},
     "output_type": "execute_result"
    }
   ],
   "source": [
    "spark.version\n"
   ]
  },
  {
   "cell_type": "code",
   "execution_count": 2,
   "id": "cbb35565",
   "metadata": {},
   "outputs": [
    {
     "data": {
      "text/html": [
       "\n",
       "            <div>\n",
       "                <p><b>SparkSession - hive</b></p>\n",
       "                \n",
       "        <div>\n",
       "            <p><b>SparkContext</b></p>\n",
       "\n",
       "            <p><a href=\"http://c02fj5kymd6n.hsd1.ca.comcast.net:4040\">Spark UI</a></p>\n",
       "\n",
       "            <dl>\n",
       "              <dt>Version</dt>\n",
       "                <dd><code>v3.3.2</code></dd>\n",
       "              <dt>Master</dt>\n",
       "                <dd><code>local[*]</code></dd>\n",
       "              <dt>AppName</dt>\n",
       "                <dd><code>PySparkShell</code></dd>\n",
       "            </dl>\n",
       "        </div>\n",
       "        \n",
       "            </div>\n",
       "        "
      ],
      "text/plain": [
       "<pyspark.sql.session.SparkSession at 0x10e183e80>"
      ]
     },
     "execution_count": 2,
     "metadata": {},
     "output_type": "execute_result"
    }
   ],
   "source": [
    "spark"
   ]
  },
  {
   "cell_type": "markdown",
   "id": "983594b0",
   "metadata": {},
   "source": [
    "# Demo of map()"
   ]
  },
  {
   "cell_type": "code",
   "execution_count": 3,
   "id": "7dc7a77c",
   "metadata": {},
   "outputs": [
    {
     "name": "stdout",
     "output_type": "stream",
     "text": [
      "['fox jumped', 'fox jumped again', 'red fox jumped', 'blue fox jumped']\n"
     ]
    }
   ],
   "source": [
    "some_strings = ['fox jumped', 'fox jumped again', 'red fox jumped', 'blue fox jumped']\n",
    "print(some_strings)"
   ]
  },
  {
   "cell_type": "code",
   "execution_count": 5,
   "id": "0c6c7c99",
   "metadata": {},
   "outputs": [],
   "source": [
    "rdd = spark.sparkContext.parallelize(some_strings)"
   ]
  },
  {
   "cell_type": "code",
   "execution_count": 6,
   "id": "42cccff7",
   "metadata": {},
   "outputs": [
    {
     "name": "stderr",
     "output_type": "stream",
     "text": [
      "                                                                                \r"
     ]
    },
    {
     "data": {
      "text/plain": [
       "['fox jumped', 'fox jumped again', 'red fox jumped', 'blue fox jumped']"
      ]
     },
     "execution_count": 6,
     "metadata": {},
     "output_type": "execute_result"
    }
   ],
   "source": [
    "rdd.collect()"
   ]
  },
  {
   "cell_type": "code",
   "execution_count": 7,
   "id": "41986159",
   "metadata": {},
   "outputs": [
    {
     "name": "stderr",
     "output_type": "stream",
     "text": [
      "                                                                                \r"
     ]
    },
    {
     "data": {
      "text/plain": [
       "4"
      ]
     },
     "execution_count": 7,
     "metadata": {},
     "output_type": "execute_result"
    }
   ],
   "source": [
    "rdd.count()"
   ]
  },
  {
   "cell_type": "code",
   "execution_count": 8,
   "id": "51ea6a79",
   "metadata": {},
   "outputs": [],
   "source": [
    "# rdd: RDD[String]"
   ]
  },
  {
   "cell_type": "code",
   "execution_count": 10,
   "id": "2869cb79",
   "metadata": {},
   "outputs": [],
   "source": [
    "rdd2 = rdd.map(lambda x: (x, len(x)))\n"
   ]
  },
  {
   "cell_type": "code",
   "execution_count": 11,
   "id": "9166fab3",
   "metadata": {},
   "outputs": [
    {
     "data": {
      "text/plain": [
       "[('fox jumped', 10),\n",
       " ('fox jumped again', 16),\n",
       " ('red fox jumped', 14),\n",
       " ('blue fox jumped', 15)]"
      ]
     },
     "execution_count": 11,
     "metadata": {},
     "output_type": "execute_result"
    }
   ],
   "source": [
    "rdd2.collect()"
   ]
  },
  {
   "cell_type": "code",
   "execution_count": 12,
   "id": "0353e706",
   "metadata": {},
   "outputs": [
    {
     "data": {
      "text/plain": [
       "4"
      ]
     },
     "execution_count": 12,
     "metadata": {},
     "output_type": "execute_result"
    }
   ],
   "source": [
    "rdd2.count()\n"
   ]
  },
  {
   "cell_type": "code",
   "execution_count": 13,
   "id": "af90c1c5",
   "metadata": {},
   "outputs": [],
   "source": [
    "# map: 1-to-1 Transformation\n"
   ]
  },
  {
   "cell_type": "code",
   "execution_count": 14,
   "id": "30b158ca",
   "metadata": {},
   "outputs": [
    {
     "data": {
      "text/plain": [
       "5"
      ]
     },
     "execution_count": 14,
     "metadata": {},
     "output_type": "execute_result"
    }
   ],
   "source": [
    "some_lists = [ ['A', 'B', 'C'], [], ['E', 'F', 'G'], ['X', 'Y'], []]\n",
    "len(some_lists)"
   ]
  },
  {
   "cell_type": "code",
   "execution_count": 15,
   "id": "e9feb4b1",
   "metadata": {},
   "outputs": [],
   "source": [
    "rdd = spark.sparkContext.parallelize(some_lists)"
   ]
  },
  {
   "cell_type": "code",
   "execution_count": 16,
   "id": "25794a48",
   "metadata": {},
   "outputs": [
    {
     "data": {
      "text/plain": [
       "[['A', 'B', 'C'], [], ['E', 'F', 'G'], ['X', 'Y'], []]"
      ]
     },
     "execution_count": 16,
     "metadata": {},
     "output_type": "execute_result"
    }
   ],
   "source": [
    "rdd.collect()\n"
   ]
  },
  {
   "cell_type": "code",
   "execution_count": 17,
   "id": "272289b5",
   "metadata": {},
   "outputs": [
    {
     "data": {
      "text/plain": [
       "5"
      ]
     },
     "execution_count": 17,
     "metadata": {},
     "output_type": "execute_result"
    }
   ],
   "source": [
    "rdd.count()"
   ]
  },
  {
   "cell_type": "code",
   "execution_count": 18,
   "id": "7938127a",
   "metadata": {},
   "outputs": [],
   "source": [
    "rdd2 = rdd.map(lambda x: x)\n"
   ]
  },
  {
   "cell_type": "code",
   "execution_count": 19,
   "id": "c503d73a",
   "metadata": {},
   "outputs": [
    {
     "data": {
      "text/plain": [
       "[['A', 'B', 'C'], [], ['E', 'F', 'G'], ['X', 'Y'], []]"
      ]
     },
     "execution_count": 19,
     "metadata": {},
     "output_type": "execute_result"
    }
   ],
   "source": [
    "rdd2.collect()"
   ]
  },
  {
   "cell_type": "code",
   "execution_count": 20,
   "id": "8a7160b0",
   "metadata": {},
   "outputs": [
    {
     "data": {
      "text/plain": [
       "5"
      ]
     },
     "execution_count": 20,
     "metadata": {},
     "output_type": "execute_result"
    }
   ],
   "source": [
    "rdd2.count()"
   ]
  },
  {
   "cell_type": "code",
   "execution_count": 21,
   "id": "3690431c",
   "metadata": {},
   "outputs": [],
   "source": [
    "# source RDD: rdd\n",
    "# target RDD: rdd3\n",
    "rdd3 = rdd.flatMap(lambda x: x)\n"
   ]
  },
  {
   "cell_type": "code",
   "execution_count": 22,
   "id": "69667d85",
   "metadata": {},
   "outputs": [
    {
     "data": {
      "text/plain": [
       "['A', 'B', 'C', 'E', 'F', 'G', 'X', 'Y']"
      ]
     },
     "execution_count": 22,
     "metadata": {},
     "output_type": "execute_result"
    }
   ],
   "source": [
    "rdd3.collect()"
   ]
  },
  {
   "cell_type": "code",
   "execution_count": 23,
   "id": "0feafa49",
   "metadata": {},
   "outputs": [
    {
     "data": {
      "text/plain": [
       "8"
      ]
     },
     "execution_count": 23,
     "metadata": {},
     "output_type": "execute_result"
    }
   ],
   "source": [
    "rdd3.count()"
   ]
  },
  {
   "cell_type": "code",
   "execution_count": 24,
   "id": "6c0e2817",
   "metadata": {},
   "outputs": [],
   "source": [
    "# RDD.flatMap(): Return a new RDD by first applying a function \n",
    "# to all elements of this RDD, and then flattening the results.\n",
    "\n",
    "# map(): 1-to-1 Transformation\n",
    "# flatMap(): 1-to-Many Transformation, Many: 0, 1, 2, 3, 4, ...\n",
    "\n"
   ]
  },
  {
   "cell_type": "code",
   "execution_count": 25,
   "id": "5cf04bfd",
   "metadata": {},
   "outputs": [],
   "source": [
    "# filter() Transformation\n",
    "# filter(): Return a new RDD containing only the elements that satisfy a predicate."
   ]
  },
  {
   "cell_type": "code",
   "execution_count": 26,
   "id": "61b1af3c",
   "metadata": {},
   "outputs": [
    {
     "data": {
      "text/plain": [
       "[['A', 'B', 'C'], [], ['E', 'F', 'G'], ['X', 'Y'], []]"
      ]
     },
     "execution_count": 26,
     "metadata": {},
     "output_type": "execute_result"
    }
   ],
   "source": [
    "rdd.collect()"
   ]
  },
  {
   "cell_type": "code",
   "execution_count": 27,
   "id": "2e0410b9",
   "metadata": {},
   "outputs": [],
   "source": [
    "rdd4 = rdd.filter(lambda x: len(x) > 0)\n",
    "# Boolean predicate "
   ]
  },
  {
   "cell_type": "code",
   "execution_count": null,
   "id": "db22a6bb",
   "metadata": {},
   "outputs": [],
   "source": [
    "len([])"
   ]
  },
  {
   "cell_type": "code",
   "execution_count": 30,
   "id": "0d7f691e",
   "metadata": {},
   "outputs": [],
   "source": [
    "# source RDD: rdd4\n",
    "# target RDD: rdd5\n",
    "rdd5 = rdd4.filter(lambda x: len(x) > 2)"
   ]
  },
  {
   "cell_type": "code",
   "execution_count": 31,
   "id": "408294a9",
   "metadata": {},
   "outputs": [
    {
     "data": {
      "text/plain": [
       "[['A', 'B', 'C'], ['E', 'F', 'G']]"
      ]
     },
     "execution_count": 31,
     "metadata": {},
     "output_type": "execute_result"
    }
   ],
   "source": [
    "rdd5.collect()"
   ]
  },
  {
   "cell_type": "code",
   "execution_count": 33,
   "id": "2704e069",
   "metadata": {},
   "outputs": [
    {
     "name": "stdout",
     "output_type": "stream",
     "text": [
      "[('A', 2), ('A', 3), ('B', 2), ('B', 6), ('B', 9), ('C', 5)]\n"
     ]
    }
   ],
   "source": [
    "# (KEY, VALUE)\n",
    "key_value = [('A', 2), ('A', 3), ('B', 2), ('B', 6), ('B', 9), ('C', 5)]\n",
    "len(key_value)\n",
    "print(key_value)"
   ]
  },
  {
   "cell_type": "code",
   "execution_count": 34,
   "id": "54a65b16",
   "metadata": {},
   "outputs": [
    {
     "data": {
      "text/plain": [
       "6"
      ]
     },
     "execution_count": 34,
     "metadata": {},
     "output_type": "execute_result"
    }
   ],
   "source": [
    "len(key_value)"
   ]
  },
  {
   "cell_type": "markdown",
   "id": "0f523f1a",
   "metadata": {},
   "source": [
    "# find sum of values per key\n",
    "# Reduction Transformations"
   ]
  },
  {
   "cell_type": "markdown",
   "id": "58336b9b",
   "metadata": {},
   "source": [
    "## groupByKey()\n",
    "## reduceByKey()\n",
    "## aggregateByKey()\n",
    "## combineByKey()"
   ]
  },
  {
   "cell_type": "code",
   "execution_count": 35,
   "id": "2dfb7eed",
   "metadata": {},
   "outputs": [],
   "source": [
    "rdd = spark.sparkContext.parallelize(key_value)"
   ]
  },
  {
   "cell_type": "code",
   "execution_count": 36,
   "id": "04b7e42e",
   "metadata": {},
   "outputs": [
    {
     "data": {
      "text/plain": [
       "[('A', 2), ('A', 3), ('B', 2), ('B', 6), ('B', 9), ('C', 5)]"
      ]
     },
     "execution_count": 36,
     "metadata": {},
     "output_type": "execute_result"
    }
   ],
   "source": [
    "rdd.collect()"
   ]
  },
  {
   "cell_type": "code",
   "execution_count": 37,
   "id": "634984da",
   "metadata": {},
   "outputs": [
    {
     "data": {
      "text/plain": [
       "6"
      ]
     },
     "execution_count": 37,
     "metadata": {},
     "output_type": "execute_result"
    }
   ],
   "source": [
    "rdd.count()"
   ]
  },
  {
   "cell_type": "code",
   "execution_count": 38,
   "id": "805728df",
   "metadata": {},
   "outputs": [],
   "source": [
    "grouped_by_key = rdd.groupByKey()"
   ]
  },
  {
   "cell_type": "code",
   "execution_count": 39,
   "id": "a6257c07",
   "metadata": {},
   "outputs": [
    {
     "name": "stderr",
     "output_type": "stream",
     "text": [
      "                                                                                \r"
     ]
    },
    {
     "data": {
      "text/plain": [
       "[('B', <pyspark.resultiterable.ResultIterable at 0x10e53d4e0>),\n",
       " ('C', <pyspark.resultiterable.ResultIterable at 0x10e34a800>),\n",
       " ('A', <pyspark.resultiterable.ResultIterable at 0x10e34a380>)]"
      ]
     },
     "execution_count": 39,
     "metadata": {},
     "output_type": "execute_result"
    }
   ],
   "source": [
    "grouped_by_key.collect()"
   ]
  },
  {
   "cell_type": "code",
   "execution_count": 40,
   "id": "3f7f4a24",
   "metadata": {},
   "outputs": [
    {
     "data": {
      "text/plain": [
       "[('B', [2, 6, 9]), ('C', [5]), ('A', [2, 3])]"
      ]
     },
     "execution_count": 40,
     "metadata": {},
     "output_type": "execute_result"
    }
   ],
   "source": [
    "grouped_by_key.mapValues(lambda values: list(values)).collect()"
   ]
  },
  {
   "cell_type": "code",
   "execution_count": 41,
   "id": "0d17293d",
   "metadata": {},
   "outputs": [],
   "source": [
    "# x: ('B', [2, 6, 9])\n",
    "# x: ('C', [5])\n",
    "# x: ('A', [2, 3])\n",
    "# x: (key, value)\n",
    "# x : (x[0], x[1]), where x[0] denotes a key AND x[1] denotes a value\n",
    "sum_per_key = grouped_by_key.map(lambda x: (x[0], sum(x[1])))\n"
   ]
  },
  {
   "cell_type": "code",
   "execution_count": 42,
   "id": "1fb89427",
   "metadata": {},
   "outputs": [
    {
     "data": {
      "text/plain": [
       "[('B', 17), ('C', 5), ('A', 5)]"
      ]
     },
     "execution_count": 42,
     "metadata": {},
     "output_type": "execute_result"
    }
   ],
   "source": [
    "sum_per_key.collect()"
   ]
  },
  {
   "cell_type": "code",
   "execution_count": 43,
   "id": "ad24be41",
   "metadata": {},
   "outputs": [],
   "source": [
    "# mapValues(): Pass each value in the (key, value) pair RDD \n",
    "# through a map function without changing the keys"
   ]
  },
  {
   "cell_type": "code",
   "execution_count": 44,
   "id": "b34f4287",
   "metadata": {},
   "outputs": [],
   "source": [
    "# x: [2, 6, 9]\n",
    "# x: [5]\n",
    "# x: [2, 3]\n",
    "# x: value of (key, value)\n",
    "sum_per_key = grouped_by_key.mapValues(lambda x: sum(x))\n"
   ]
  },
  {
   "cell_type": "code",
   "execution_count": 45,
   "id": "7a3073b4",
   "metadata": {},
   "outputs": [
    {
     "data": {
      "text/plain": [
       "[('B', 17), ('C', 5), ('A', 5)]"
      ]
     },
     "execution_count": 45,
     "metadata": {},
     "output_type": "execute_result"
    }
   ],
   "source": [
    "sum_per_key.collect()"
   ]
  },
  {
   "cell_type": "code",
   "execution_count": 46,
   "id": "8e92b06c",
   "metadata": {},
   "outputs": [],
   "source": [
    "# x: (key, value): (x[0], x[1])\n",
    "gt10 = sum_per_key.filter(lambda x: x[1] > 10)"
   ]
  },
  {
   "cell_type": "code",
   "execution_count": 47,
   "id": "a4f516b0",
   "metadata": {},
   "outputs": [
    {
     "data": {
      "text/plain": [
       "[('B', 17)]"
      ]
     },
     "execution_count": 47,
     "metadata": {},
     "output_type": "execute_result"
    }
   ],
   "source": [
    "gt10.collect()"
   ]
  },
  {
   "cell_type": "code",
   "execution_count": null,
   "id": "d9f78b6c",
   "metadata": {},
   "outputs": [],
   "source": []
  }
 ],
 "metadata": {
  "kernelspec": {
   "display_name": "Python 3 (ipykernel)",
   "language": "python",
   "name": "python3"
  },
  "language_info": {
   "codemirror_mode": {
    "name": "ipython",
    "version": 3
   },
   "file_extension": ".py",
   "mimetype": "text/x-python",
   "name": "python",
   "nbconvert_exporter": "python",
   "pygments_lexer": "ipython3",
   "version": "3.10.5"
  }
 },
 "nbformat": 4,
 "nbformat_minor": 5
}
