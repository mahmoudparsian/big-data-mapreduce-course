{
 "cells": [
  {
   "cell_type": "code",
   "execution_count": 4,
   "id": "1025dc17",
   "metadata": {},
   "outputs": [
    {
     "data": {
      "text/html": [
       "\n",
       "            <div>\n",
       "                <p><b>SparkSession - hive</b></p>\n",
       "                \n",
       "        <div>\n",
       "            <p><b>SparkContext</b></p>\n",
       "\n",
       "            <p><a href=\"http://172.20.204.223:4040\">Spark UI</a></p>\n",
       "\n",
       "            <dl>\n",
       "              <dt>Version</dt>\n",
       "                <dd><code>v3.5.0</code></dd>\n",
       "              <dt>Master</dt>\n",
       "                <dd><code>local[*]</code></dd>\n",
       "              <dt>AppName</dt>\n",
       "                <dd><code>PySparkShell</code></dd>\n",
       "            </dl>\n",
       "        </div>\n",
       "        \n",
       "            </div>\n",
       "        "
      ],
      "text/plain": [
       "<pyspark.sql.session.SparkSession at 0x10552b090>"
      ]
     },
     "execution_count": 4,
     "metadata": {},
     "output_type": "execute_result"
    }
   ],
   "source": [
    "spark"
   ]
  },
  {
   "cell_type": "code",
   "execution_count": 5,
   "id": "3febee6a",
   "metadata": {},
   "outputs": [
    {
     "data": {
      "text/plain": [
       "'3.5.0'"
      ]
     },
     "execution_count": 5,
     "metadata": {},
     "output_type": "execute_result"
    }
   ],
   "source": [
    "spark.version"
   ]
  },
  {
   "cell_type": "code",
   "execution_count": 6,
   "id": "7fe7df7d",
   "metadata": {},
   "outputs": [
    {
     "data": {
      "text/plain": [
       "'3.5.0'"
      ]
     },
     "execution_count": 6,
     "metadata": {},
     "output_type": "execute_result"
    }
   ],
   "source": [
    "sc.version"
   ]
  },
  {
   "cell_type": "markdown",
   "id": "235bd9dd",
   "metadata": {},
   "source": [
    "# my demo"
   ]
  },
  {
   "cell_type": "code",
   "execution_count": 7,
   "id": "e92d5932",
   "metadata": {},
   "outputs": [],
   "source": [
    "my_collection = [('g1', 2), ('g1', 7),('g1', 9), ('g2', 10),('g2', 20),('g2', 60),('g3', 5)]"
   ]
  },
  {
   "cell_type": "code",
   "execution_count": 8,
   "id": "29578942",
   "metadata": {},
   "outputs": [
    {
     "data": {
      "text/plain": [
       "[('g1', 2),\n",
       " ('g1', 7),\n",
       " ('g1', 9),\n",
       " ('g2', 10),\n",
       " ('g2', 20),\n",
       " ('g2', 60),\n",
       " ('g3', 5)]"
      ]
     },
     "execution_count": 8,
     "metadata": {},
     "output_type": "execute_result"
    }
   ],
   "source": [
    "my_collection"
   ]
  },
  {
   "cell_type": "code",
   "execution_count": 9,
   "id": "886f145e",
   "metadata": {},
   "outputs": [],
   "source": [
    "# tuples: RDD[(String, Integer)]\n",
    "tuples = sc.parallelize(my_collection)"
   ]
  },
  {
   "cell_type": "code",
   "execution_count": 10,
   "id": "a9826da0",
   "metadata": {},
   "outputs": [
    {
     "data": {
      "text/plain": [
       "[('g1', 2),\n",
       " ('g1', 7),\n",
       " ('g1', 9),\n",
       " ('g2', 10),\n",
       " ('g2', 20),\n",
       " ('g2', 60),\n",
       " ('g3', 5)]"
      ]
     },
     "execution_count": 10,
     "metadata": {},
     "output_type": "execute_result"
    }
   ],
   "source": [
    "tuples.collect()"
   ]
  },
  {
   "cell_type": "code",
   "execution_count": 11,
   "id": "6d94a8eb",
   "metadata": {},
   "outputs": [
    {
     "name": "stderr",
     "output_type": "stream",
     "text": [
      "                                                                                \r"
     ]
    },
    {
     "data": {
      "text/plain": [
       "7"
      ]
     },
     "execution_count": 11,
     "metadata": {},
     "output_type": "execute_result"
    }
   ],
   "source": [
    "tuples.count()"
   ]
  },
  {
   "cell_type": "code",
   "execution_count": 12,
   "id": "d4d890b8",
   "metadata": {},
   "outputs": [],
   "source": [
    "grouped_by_key = tuples.groupByKey()"
   ]
  },
  {
   "cell_type": "code",
   "execution_count": 13,
   "id": "f2c3fcbd",
   "metadata": {},
   "outputs": [
    {
     "name": "stderr",
     "output_type": "stream",
     "text": [
      "                                                                                \r"
     ]
    },
    {
     "data": {
      "text/plain": [
       "[('g2', <pyspark.resultiterable.ResultIterable at 0x104bd8710>),\n",
       " ('g1', <pyspark.resultiterable.ResultIterable at 0x105401b90>),\n",
       " ('g3', <pyspark.resultiterable.ResultIterable at 0x108cd3790>)]"
      ]
     },
     "execution_count": 13,
     "metadata": {},
     "output_type": "execute_result"
    }
   ],
   "source": [
    "grouped_by_key.collect()"
   ]
  },
  {
   "cell_type": "code",
   "execution_count": 14,
   "id": "227968a1",
   "metadata": {},
   "outputs": [
    {
     "data": {
      "text/plain": [
       "[('g2', [10, 20, 60]), ('g1', [2, 7, 9]), ('g3', [5])]"
      ]
     },
     "execution_count": 14,
     "metadata": {},
     "output_type": "execute_result"
    }
   ],
   "source": [
    "# for testing/debugging\n",
    "# x[0]: gene_id\n",
    "# x[1]: Iterable<Integer>\n",
    "grouped_by_key.map(lambda x: (x[0], list(x[1]))).collect()"
   ]
  },
  {
   "cell_type": "code",
   "execution_count": 15,
   "id": "ba41e489",
   "metadata": {},
   "outputs": [],
   "source": [
    "# x : Iterable<Integer>\n",
    "avg_by_key = grouped_by_key.mapValues(lambda x: float(sum(x)) / len(x))"
   ]
  },
  {
   "cell_type": "code",
   "execution_count": 16,
   "id": "ca3b9f17",
   "metadata": {},
   "outputs": [
    {
     "data": {
      "text/plain": [
       "[('g2', 30.0), ('g1', 6.0), ('g3', 5.0)]"
      ]
     },
     "execution_count": 16,
     "metadata": {},
     "output_type": "execute_result"
    }
   ],
   "source": [
    "avg_by_key.collect()"
   ]
  },
  {
   "cell_type": "code",
   "execution_count": 21,
   "id": "5c42cae4",
   "metadata": {},
   "outputs": [],
   "source": [
    "avg_by_key_with_count = grouped_by_key.mapValues(lambda x: (float(sum(x)) / len(x), len(x)))"
   ]
  },
  {
   "cell_type": "code",
   "execution_count": 22,
   "id": "4a7f3a15",
   "metadata": {},
   "outputs": [
    {
     "data": {
      "text/plain": [
       "[('g2', (30.0, 3)), ('g1', (6.0, 3)), ('g3', (5.0, 1))]"
      ]
     },
     "execution_count": 22,
     "metadata": {},
     "output_type": "execute_result"
    }
   ],
   "source": [
    "avg_by_key_with_count.collect()"
   ]
  },
  {
   "cell_type": "code",
   "execution_count": 23,
   "id": "3691aa9a",
   "metadata": {},
   "outputs": [],
   "source": [
    "mynumbers = [1, 2, 3, 4, 5, 1, 2, 3, 4, 5, 1, 2, 3, 4, 5, 1, 2, 3, 4, 5,1, 2, 3, 4, 5,1, 2, 3, 4, 5,1, 2, 3, 4, 5, 1, 2, 3, 4, 5, 1, 2, 3, 4, 5, 1, 2, 3, 4, 5, 1, 2, 3, 4, 5,1, 2, 3, 4, 5,1, 2, 3, 4, 5,1, 2, 3, 4, 5, 1, 2, 3, 4, 5, 1, 2, 3, 4, 5, 1, 2, 3, 4, 5, 1, 2, 3, 4, 5,1, 2, 3, 4, 5,1, 2, 3, 4, 5,1, 2, 3, 4, 5]"
   ]
  },
  {
   "cell_type": "code",
   "execution_count": 24,
   "id": "de79e911",
   "metadata": {},
   "outputs": [
    {
     "data": {
      "text/plain": [
       "[1,\n",
       " 2,\n",
       " 3,\n",
       " 4,\n",
       " 5,\n",
       " 1,\n",
       " 2,\n",
       " 3,\n",
       " 4,\n",
       " 5,\n",
       " 1,\n",
       " 2,\n",
       " 3,\n",
       " 4,\n",
       " 5,\n",
       " 1,\n",
       " 2,\n",
       " 3,\n",
       " 4,\n",
       " 5,\n",
       " 1,\n",
       " 2,\n",
       " 3,\n",
       " 4,\n",
       " 5,\n",
       " 1,\n",
       " 2,\n",
       " 3,\n",
       " 4,\n",
       " 5,\n",
       " 1,\n",
       " 2,\n",
       " 3,\n",
       " 4,\n",
       " 5,\n",
       " 1,\n",
       " 2,\n",
       " 3,\n",
       " 4,\n",
       " 5,\n",
       " 1,\n",
       " 2,\n",
       " 3,\n",
       " 4,\n",
       " 5,\n",
       " 1,\n",
       " 2,\n",
       " 3,\n",
       " 4,\n",
       " 5,\n",
       " 1,\n",
       " 2,\n",
       " 3,\n",
       " 4,\n",
       " 5,\n",
       " 1,\n",
       " 2,\n",
       " 3,\n",
       " 4,\n",
       " 5,\n",
       " 1,\n",
       " 2,\n",
       " 3,\n",
       " 4,\n",
       " 5,\n",
       " 1,\n",
       " 2,\n",
       " 3,\n",
       " 4,\n",
       " 5,\n",
       " 1,\n",
       " 2,\n",
       " 3,\n",
       " 4,\n",
       " 5,\n",
       " 1,\n",
       " 2,\n",
       " 3,\n",
       " 4,\n",
       " 5,\n",
       " 1,\n",
       " 2,\n",
       " 3,\n",
       " 4,\n",
       " 5,\n",
       " 1,\n",
       " 2,\n",
       " 3,\n",
       " 4,\n",
       " 5,\n",
       " 1,\n",
       " 2,\n",
       " 3,\n",
       " 4,\n",
       " 5,\n",
       " 1,\n",
       " 2,\n",
       " 3,\n",
       " 4,\n",
       " 5,\n",
       " 1,\n",
       " 2,\n",
       " 3,\n",
       " 4,\n",
       " 5]"
      ]
     },
     "execution_count": 24,
     "metadata": {},
     "output_type": "execute_result"
    }
   ],
   "source": [
    "mynumbers"
   ]
  },
  {
   "cell_type": "code",
   "execution_count": 25,
   "id": "cc53ffca",
   "metadata": {},
   "outputs": [
    {
     "data": {
      "text/plain": [
       "105"
      ]
     },
     "execution_count": 25,
     "metadata": {},
     "output_type": "execute_result"
    }
   ],
   "source": [
    "len(mynumbers)"
   ]
  },
  {
   "cell_type": "code",
   "execution_count": 26,
   "id": "9b8ab0d3",
   "metadata": {},
   "outputs": [],
   "source": [
    "rdd = sc.parallelize(mynumbers)"
   ]
  },
  {
   "cell_type": "code",
   "execution_count": 27,
   "id": "b1be6f98",
   "metadata": {},
   "outputs": [
    {
     "data": {
      "text/plain": [
       "105"
      ]
     },
     "execution_count": 27,
     "metadata": {},
     "output_type": "execute_result"
    }
   ],
   "source": [
    "rdd.count()"
   ]
  },
  {
   "cell_type": "code",
   "execution_count": 28,
   "id": "6d9a242f",
   "metadata": {},
   "outputs": [
    {
     "data": {
      "text/plain": [
       "16"
      ]
     },
     "execution_count": 28,
     "metadata": {},
     "output_type": "execute_result"
    }
   ],
   "source": [
    "rdd.getNumPartitions()"
   ]
  },
  {
   "cell_type": "code",
   "execution_count": 29,
   "id": "faf803ab",
   "metadata": {},
   "outputs": [],
   "source": [
    "rdd2 = sc.parallelize(mynumbers, 5)"
   ]
  },
  {
   "cell_type": "code",
   "execution_count": 30,
   "id": "13c06e54",
   "metadata": {},
   "outputs": [
    {
     "data": {
      "text/plain": [
       "5"
      ]
     },
     "execution_count": 30,
     "metadata": {},
     "output_type": "execute_result"
    }
   ],
   "source": [
    "rdd2.getNumPartitions()"
   ]
  },
  {
   "cell_type": "code",
   "execution_count": null,
   "id": "69e79f78",
   "metadata": {},
   "outputs": [],
   "source": []
  }
 ],
 "metadata": {
  "kernelspec": {
   "display_name": "Python 3 (ipykernel)",
   "language": "python",
   "name": "python3"
  },
  "language_info": {
   "codemirror_mode": {
    "name": "ipython",
    "version": 3
   },
   "file_extension": ".py",
   "mimetype": "text/x-python",
   "name": "python",
   "nbconvert_exporter": "python",
   "pygments_lexer": "ipython3",
   "version": "3.11.4"
  }
 },
 "nbformat": 4,
 "nbformat_minor": 5
}
